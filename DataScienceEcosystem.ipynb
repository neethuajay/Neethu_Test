{
 "cells": [
  {
   "cell_type": "markdown",
   "id": "9cb4e16b-55ff-40a9-85de-cbd267f8e350",
   "metadata": {},
   "source": [
    "# Data Science Tools and Ecosystem"
   ]
  },
  {
   "cell_type": "markdown",
   "id": "1cf9f038-6d53-4e07-82cd-89d8d5d0dff2",
   "metadata": {},
   "source": [
    "In this notebook, Data Science Tools and Ecosystem are summarized."
   ]
  },
  {
   "cell_type": "markdown",
   "id": "5b9b351b-a2f7-4327-9986-20c72ccbfed3",
   "metadata": {
    "tags": []
   },
   "source": [
    "**Objectives:**"
   ]
  },
  {
   "cell_type": "markdown",
   "id": "63da9630-ea14-4f8e-a416-fce355f8d87f",
   "metadata": {},
   "source": [
    "* List of popular languages that Data Scientists use\n",
    "* List of commonly used libraries used by Data Scientists\n",
    "* List of open source tools used in data science"
   ]
  },
  {
   "cell_type": "markdown",
   "id": "d489651d-593f-4ce0-a660-4376288f87c3",
   "metadata": {},
   "source": [
    "Some of the popular languages that Data Scientists use are:"
   ]
  },
  {
   "cell_type": "markdown",
   "id": "180e9323-2cc9-42af-bbec-41dd5877ba90",
   "metadata": {},
   "source": [
    "1. PYTHON\n",
    "2. R\n",
    "3. SQL"
   ]
  },
  {
   "cell_type": "markdown",
   "id": "ef83c24f-1115-4f06-a1d6-9de46a231451",
   "metadata": {},
   "source": [
    "Some of the commonly used libraries used by Data Scientists include:"
   ]
  },
  {
   "cell_type": "markdown",
   "id": "0e108ccb-c570-4138-8452-9f6e585446eb",
   "metadata": {},
   "source": [
    "1. Pandas\n",
    "2. NumPy\n",
    "3. SciPy\n",
    "4. Matplotlib"
   ]
  },
  {
   "cell_type": "markdown",
   "id": "cf6d0dc1-4483-4da6-b330-9c1bc8087ea9",
   "metadata": {
    "tags": []
   },
   "source": [
    "|Data_Science_Tools|\n",
    "|------------------|\n",
    "|MySql|\n",
    "|MongoDB|\n",
    "|Apache CouchDb|"
   ]
  },
  {
   "cell_type": "markdown",
   "id": "450dca47-8c92-42b7-86ea-772f64e56410",
   "metadata": {},
   "source": [
    "### Below are a few examples of evaluating arithmetic expressions in Python"
   ]
  },
  {
   "cell_type": "markdown",
   "id": "55a90a18-61b7-4505-b5b0-6b2efd157e3d",
   "metadata": {},
   "source": [
    "This a simple arithmetic expression to mutiply then add integers"
   ]
  },
  {
   "cell_type": "code",
   "execution_count": 6,
   "id": "7015bba7-cfcb-47be-a1d6-f8aee9bca57e",
   "metadata": {
    "tags": []
   },
   "outputs": [
    {
     "data": {
      "text/plain": [
       "17"
      ]
     },
     "execution_count": 6,
     "metadata": {},
     "output_type": "execute_result"
    }
   ],
   "source": [
    "(3*4)+5"
   ]
  },
  {
   "cell_type": "markdown",
   "id": "3609c5d1-b5e0-45e5-b732-80f9901d3d11",
   "metadata": {},
   "source": [
    "This will convert 200 minutes to hours by diving by 60"
   ]
  },
  {
   "cell_type": "code",
   "execution_count": 7,
   "id": "2add2b01-dc80-4dbe-8418-a85271da6fa2",
   "metadata": {
    "tags": []
   },
   "outputs": [
    {
     "data": {
      "text/plain": [
       "3.3333333333333335"
      ]
     },
     "execution_count": 7,
     "metadata": {},
     "output_type": "execute_result"
    }
   ],
   "source": [
    "200/60"
   ]
  },
  {
   "cell_type": "markdown",
   "id": "6f997d46-62db-48b9-b6aa-f0764f952882",
   "metadata": {},
   "source": [
    "## Author"
   ]
  },
  {
   "cell_type": "markdown",
   "id": "7279aeff-38f6-41fc-b08b-4dd72ab33372",
   "metadata": {},
   "source": [
    "Neethu"
   ]
  },
  {
   "cell_type": "code",
   "execution_count": null,
   "id": "65b1f310-6bfd-4010-a48c-3685239a2794",
   "metadata": {},
   "outputs": [],
   "source": []
  }
 ],
 "metadata": {
  "kernelspec": {
   "display_name": "Python",
   "language": "python",
   "name": "conda-env-python-py"
  },
  "language_info": {
   "codemirror_mode": {
    "name": "ipython",
    "version": 3
   },
   "file_extension": ".py",
   "mimetype": "text/x-python",
   "name": "python",
   "nbconvert_exporter": "python",
   "pygments_lexer": "ipython3",
   "version": "3.7.12"
  }
 },
 "nbformat": 4,
 "nbformat_minor": 5
}
